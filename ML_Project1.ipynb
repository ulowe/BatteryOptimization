{
 "cells": [
  {
   "cell_type": "code",
   "execution_count": 20,
   "id": "e0768346",
   "metadata": {},
   "outputs": [],
   "source": [
    "import turicreate as tc\n",
    "import pandas as pd\n",
    "from datetime import datetime, date"
   ]
  },
  {
   "cell_type": "code",
   "execution_count": 28,
   "id": "a49f9817",
   "metadata": {},
   "outputs": [],
   "source": [
    "data = pd.read_csv('/Users/computerscience/Downloads/obc_for_students.csv')\n",
    "data = data.set_index('Unnamed: 0')"
   ]
  },
  {
   "cell_type": "code",
   "execution_count": 29,
   "id": "c100bf9a",
   "metadata": {},
   "outputs": [
    {
     "data": {
      "text/html": [
       "<div>\n",
       "<style scoped>\n",
       "    .dataframe tbody tr th:only-of-type {\n",
       "        vertical-align: middle;\n",
       "    }\n",
       "\n",
       "    .dataframe tbody tr th {\n",
       "        vertical-align: top;\n",
       "    }\n",
       "\n",
       "    .dataframe thead th {\n",
       "        text-align: right;\n",
       "    }\n",
       "</style>\n",
       "<table border=\"1\" class=\"dataframe\">\n",
       "  <thead>\n",
       "    <tr style=\"text-align: right;\">\n",
       "      <th></th>\n",
       "      <th>start</th>\n",
       "      <th>end</th>\n",
       "      <th>stream</th>\n",
       "      <th>new_values</th>\n",
       "      <th>user_id</th>\n",
       "    </tr>\n",
       "    <tr>\n",
       "      <th>Unnamed: 0</th>\n",
       "      <th></th>\n",
       "      <th></th>\n",
       "      <th></th>\n",
       "      <th></th>\n",
       "      <th></th>\n",
       "    </tr>\n",
       "  </thead>\n",
       "  <tbody>\n",
       "    <tr>\n",
       "      <th>0</th>\n",
       "      <td>2020-03-03 00:00:00</td>\n",
       "      <td>2020-03-03 00:13:00</td>\n",
       "      <td>battery_percentage</td>\n",
       "      <td>73.000000</td>\n",
       "      <td>0.0</td>\n",
       "    </tr>\n",
       "    <tr>\n",
       "      <th>1</th>\n",
       "      <td>2020-03-03 00:13:00</td>\n",
       "      <td>2020-03-03 00:26:00</td>\n",
       "      <td>battery_percentage</td>\n",
       "      <td>72.411955</td>\n",
       "      <td>0.0</td>\n",
       "    </tr>\n",
       "    <tr>\n",
       "      <th>2</th>\n",
       "      <td>2020-03-03 00:26:00</td>\n",
       "      <td>2020-03-03 00:26:00</td>\n",
       "      <td>battery_percentage</td>\n",
       "      <td>71.823910</td>\n",
       "      <td>0.0</td>\n",
       "    </tr>\n",
       "    <tr>\n",
       "      <th>3</th>\n",
       "      <td>2020-03-03 00:26:00</td>\n",
       "      <td>2020-03-03 00:27:00</td>\n",
       "      <td>battery_percentage</td>\n",
       "      <td>71.235865</td>\n",
       "      <td>0.0</td>\n",
       "    </tr>\n",
       "    <tr>\n",
       "      <th>4</th>\n",
       "      <td>2020-03-03 00:27:00</td>\n",
       "      <td>2020-03-03 00:27:00</td>\n",
       "      <td>battery_percentage</td>\n",
       "      <td>70.647820</td>\n",
       "      <td>0.0</td>\n",
       "    </tr>\n",
       "    <tr>\n",
       "      <th>...</th>\n",
       "      <td>...</td>\n",
       "      <td>...</td>\n",
       "      <td>...</td>\n",
       "      <td>...</td>\n",
       "      <td>...</td>\n",
       "    </tr>\n",
       "    <tr>\n",
       "      <th>41195662</th>\n",
       "      <td>2020-03-24 20:25:00</td>\n",
       "      <td>2020-03-24 20:28:00</td>\n",
       "      <td>battery_percentage</td>\n",
       "      <td>66.497742</td>\n",
       "      <td>10149.0</td>\n",
       "    </tr>\n",
       "    <tr>\n",
       "      <th>41195663</th>\n",
       "      <td>2020-03-24 20:28:00</td>\n",
       "      <td>2020-03-24 20:29:00</td>\n",
       "      <td>battery_percentage</td>\n",
       "      <td>69.619920</td>\n",
       "      <td>10149.0</td>\n",
       "    </tr>\n",
       "    <tr>\n",
       "      <th>41195664</th>\n",
       "      <td>2020-03-24 20:29:00</td>\n",
       "      <td>2020-03-24 20:35:00</td>\n",
       "      <td>battery_percentage</td>\n",
       "      <td>72.248871</td>\n",
       "      <td>10149.0</td>\n",
       "    </tr>\n",
       "    <tr>\n",
       "      <th>41195665</th>\n",
       "      <td>2020-03-24 20:35:00</td>\n",
       "      <td>2020-03-24 20:36:00</td>\n",
       "      <td>battery_percentage</td>\n",
       "      <td>75.497742</td>\n",
       "      <td>10149.0</td>\n",
       "    </tr>\n",
       "    <tr>\n",
       "      <th>41195666</th>\n",
       "      <td>2020-03-24 20:36:00</td>\n",
       "      <td>2020-03-24 20:40:00</td>\n",
       "      <td>battery_percentage</td>\n",
       "      <td>78.000000</td>\n",
       "      <td>10149.0</td>\n",
       "    </tr>\n",
       "  </tbody>\n",
       "</table>\n",
       "<p>41195667 rows × 5 columns</p>\n",
       "</div>"
      ],
      "text/plain": [
       "                          start                  end              stream  \\\n",
       "Unnamed: 0                                                                 \n",
       "0           2020-03-03 00:00:00  2020-03-03 00:13:00  battery_percentage   \n",
       "1           2020-03-03 00:13:00  2020-03-03 00:26:00  battery_percentage   \n",
       "2           2020-03-03 00:26:00  2020-03-03 00:26:00  battery_percentage   \n",
       "3           2020-03-03 00:26:00  2020-03-03 00:27:00  battery_percentage   \n",
       "4           2020-03-03 00:27:00  2020-03-03 00:27:00  battery_percentage   \n",
       "...                         ...                  ...                 ...   \n",
       "41195662    2020-03-24 20:25:00  2020-03-24 20:28:00  battery_percentage   \n",
       "41195663    2020-03-24 20:28:00  2020-03-24 20:29:00  battery_percentage   \n",
       "41195664    2020-03-24 20:29:00  2020-03-24 20:35:00  battery_percentage   \n",
       "41195665    2020-03-24 20:35:00  2020-03-24 20:36:00  battery_percentage   \n",
       "41195666    2020-03-24 20:36:00  2020-03-24 20:40:00  battery_percentage   \n",
       "\n",
       "            new_values  user_id  \n",
       "Unnamed: 0                       \n",
       "0            73.000000      0.0  \n",
       "1            72.411955      0.0  \n",
       "2            71.823910      0.0  \n",
       "3            71.235865      0.0  \n",
       "4            70.647820      0.0  \n",
       "...                ...      ...  \n",
       "41195662     66.497742  10149.0  \n",
       "41195663     69.619920  10149.0  \n",
       "41195664     72.248871  10149.0  \n",
       "41195665     75.497742  10149.0  \n",
       "41195666     78.000000  10149.0  \n",
       "\n",
       "[41195667 rows x 5 columns]"
      ]
     },
     "execution_count": 29,
     "metadata": {},
     "output_type": "execute_result"
    }
   ],
   "source": [
    "data"
   ]
  },
  {
   "cell_type": "code",
   "execution_count": 30,
   "id": "6f64b914",
   "metadata": {},
   "outputs": [],
   "source": [
    "def insertStartAndEndFeatures(start, end):\n",
    "    dayOfWeekStart = []\n",
    "    dayOfWeekEnd = []\n",
    "    timeOfDayStart = []\n",
    "    timeOfDayEnd = []\n",
    "    \n",
    "    for startDateTime in start:\n",
    "        date_, time = startDateTime.split(' ')\n",
    "        year, month, day = date_.split('-')\n",
    "        \n",
    "        timeOfDayStart.append(time)\n",
    "        \n",
    "        weekday = date(int(year), int(month), int(day)).weekday()\n",
    "        dayOfWeekStart.append(weekday)\n",
    "        \n",
    "        \n",
    "    for endDateTime in end:\n",
    "        date_, time = endDateTime.split(' ')\n",
    "        year, month, day = date_.split('-')\n",
    "        \n",
    "        timeOfDayEnd.append(time)\n",
    "        \n",
    "        weekday = date(int(year), int(month), int(day)).weekday()\n",
    "        dayOfWeekEnd.append(weekday)\n",
    "        \n",
    "    return (dayOfWeekStart, dayOfWeekEnd, timeOfDayStart, timeOfDayEnd)\n",
    "\n",
    "def addStartAndEndFeatures(df):\n",
    "    df['day_of_week_start'], df['day_of_week_end'], df['time_start'], df['time_end']  = insertStartAndEndFeatures(df[\"start\"].to_numpy(), df['end'].to_numpy())\n",
    "    print(\"Done adding start and end deatures\")\n"
   ]
  },
  {
   "cell_type": "code",
   "execution_count": 31,
   "id": "27142f44",
   "metadata": {},
   "outputs": [],
   "source": [
    "def insertBatteryFeatures(stream, value):\n",
    "    isPluggedIn = False\n",
    "    pluggedIn = []\n",
    "    percentage = []\n",
    "    for i in range(len(stream)):\n",
    "        streamState, streamValue = stream[i], value[i]\n",
    "        if streamState == 'plugged_in':\n",
    "            if streamValue == 1.0: \n",
    "                isPluggedIn = True\n",
    "            else:\n",
    "                isPluggedIn = False\n",
    "        percentage.append(streamValue)\n",
    "        pluggedIn.append(isPluggedIn)\n",
    "    return (pluggedIn, percentage)\n",
    "\n",
    "def addBatteryFeatures(df):\n",
    "    df['pluggedIn'], df['percentage'] = insertBatteryFeatures(df['stream'].to_numpy(), df['new_values'].to_numpy())\n",
    "    print(\"Done adding battery deatures\")\n"
   ]
  },
  {
   "cell_type": "code",
   "execution_count": 32,
   "id": "fe04d841",
   "metadata": {},
   "outputs": [],
   "source": [
    "def getTimeOfDay(time):\n",
    "    hour = int(time[:2])\n",
    "    if 0 <= hour < 6: return 'midnight'\n",
    "    if 6 <= hour < 12: return 'morning'\n",
    "    if 12 <= hour < 18: return 'afternoon'\n",
    "    if hour >= 18: return 'night'\n",
    "    return 'N/A'\n",
    "        \n",
    "    \n",
    "def getInitialCycleDuration(stream, startTime, endTime):\n",
    "    #Did not account that initial may span multiple days\n",
    "    FMT = '%H:%M:%S'\n",
    "    for i in range(len(startTime)):\n",
    "        streamState, start, end = stream[i], startTime[i], endTime[i]\n",
    "        if streamState == 'plugged_in':\n",
    "            tdelta = datetime.strptime(start, FMT) - datetime.strptime(\"00:00:00\", FMT)\n",
    "            return tdelta.total_seconds()\n",
    "\n",
    "def getTimeDelta(start, end):\n",
    "    FMT = '%H:%M:%S'\n",
    "    #Account for different days where startTime > end Time\n",
    "    tdelta = datetime.strptime(end, FMT) - datetime.strptime(start, FMT)\n",
    "    if tdelta.total_seconds() < 0:\n",
    "        restOfDay = datetime.strptime('23:59:59', FMT) - datetime.strptime(start, FMT)\n",
    "        nextDay = datetime.strptime(end, FMT) - datetime.strptime('00:00:00', FMT)\n",
    "        return restOfDay.total_seconds() + nextDay.total_seconds()\n",
    "    else:\n",
    "        return tdelta.total_seconds()\n",
    "    \n",
    "        \n",
    "def insertDurationFeature(stream, startTime, endTime):\n",
    "    cycleDuration = getInitialCycleDuration(stream, startTime, endTime)\n",
    "    duration = []\n",
    "    cycleLength = []\n",
    "    timeOfDay = []\n",
    "    for i in range(len(startTime)):\n",
    "        streamState, start, end = stream[i], startTime[i], endTime[i]\n",
    "        \n",
    "        timeDifference = getTimeDelta(start, end)\n",
    "        \n",
    "        if streamState == 'plugged_in':\n",
    "            cycleDuration = timeDifference\n",
    "        \n",
    "        cycleLength.append(int(cycleDuration))     \n",
    "        duration.append(int(timeDifference))\n",
    "        timeOfDay.append(getTimeOfDay(start))\n",
    "        \n",
    "    return (duration, cycleLength, timeOfDay)\n",
    "\n",
    "def addDurationFeature(df):\n",
    "    df['event_duration'], df['cycle_duration'], df['time_of_day'] = insertDurationFeature(df[\"stream\"].to_numpy(), df[\"time_start\"].to_numpy(), df['time_end'].to_numpy())\n",
    "    print(\"Done adding duration deatures\")\n",
    "                             \n",
    "                             "
   ]
  },
  {
   "cell_type": "code",
   "execution_count": 33,
   "id": "493aad44",
   "metadata": {},
   "outputs": [],
   "source": [
    "def rowsToDrop(stream):\n",
    "    indexesToDrop = []\n",
    "    for i in range(len(stream)):\n",
    "        if stream[i] != 'battery_percentage':\n",
    "            indexesToDrop.append(i)\n",
    "    return indexesToDrop\n",
    "\n",
    "def dropPluggedInRows(df):\n",
    "    df.drop (\n",
    "        labels = rowsToDrop(df['stream'].to_numpy()),\n",
    "        axis = 0,\n",
    "        inplace = True\n",
    "    )\n",
    "    df.drop (\n",
    "        labels = ['stream', 'new_values', 'start', 'end'],\n",
    "        axis = 1,\n",
    "        inplace = True\n",
    "    )\n",
    "    df.reset_index(drop=True, inplace=True)\n",
    "    print(\"Done dropping deatures\")"
   ]
  },
  {
   "cell_type": "code",
   "execution_count": 34,
   "id": "e7052a4a",
   "metadata": {},
   "outputs": [],
   "source": [
    "addStartAndEndFeatures(data)\n",
    "addBatteryFeatures(data)\n",
    "addDurationFeature(data)\n",
    "dropPluggedInRows(data)"
   ]
  },
  {
   "cell_type": "code",
   "execution_count": 35,
   "id": "bc78b4e2",
   "metadata": {},
   "outputs": [
    {
     "data": {
      "text/html": [
       "<div style=\"max-height:1000px;max-width:1500px;overflow:auto;\"><table frame=\"box\" rules=\"cols\">\n",
       "    <tr>\n",
       "        <th style=\"padding-left: 1em; padding-right: 1em; text-align: center\">user_id</th>\n",
       "        <th style=\"padding-left: 1em; padding-right: 1em; text-align: center\">day_of_week_start</th>\n",
       "        <th style=\"padding-left: 1em; padding-right: 1em; text-align: center\">day_of_week_end</th>\n",
       "        <th style=\"padding-left: 1em; padding-right: 1em; text-align: center\">time_start</th>\n",
       "        <th style=\"padding-left: 1em; padding-right: 1em; text-align: center\">time_end</th>\n",
       "        <th style=\"padding-left: 1em; padding-right: 1em; text-align: center\">pluggedIn</th>\n",
       "        <th style=\"padding-left: 1em; padding-right: 1em; text-align: center\">percentage</th>\n",
       "        <th style=\"padding-left: 1em; padding-right: 1em; text-align: center\">event_duration</th>\n",
       "    </tr>\n",
       "    <tr>\n",
       "        <td style=\"padding-left: 1em; padding-right: 1em; text-align: center; vertical-align: top\">0.0</td>\n",
       "        <td style=\"padding-left: 1em; padding-right: 1em; text-align: center; vertical-align: top\">1</td>\n",
       "        <td style=\"padding-left: 1em; padding-right: 1em; text-align: center; vertical-align: top\">1</td>\n",
       "        <td style=\"padding-left: 1em; padding-right: 1em; text-align: center; vertical-align: top\">00:00:00</td>\n",
       "        <td style=\"padding-left: 1em; padding-right: 1em; text-align: center; vertical-align: top\">00:13:00</td>\n",
       "        <td style=\"padding-left: 1em; padding-right: 1em; text-align: center; vertical-align: top\">0</td>\n",
       "        <td style=\"padding-left: 1em; padding-right: 1em; text-align: center; vertical-align: top\">73.0</td>\n",
       "        <td style=\"padding-left: 1em; padding-right: 1em; text-align: center; vertical-align: top\">780</td>\n",
       "    </tr>\n",
       "    <tr>\n",
       "        <td style=\"padding-left: 1em; padding-right: 1em; text-align: center; vertical-align: top\">0.0</td>\n",
       "        <td style=\"padding-left: 1em; padding-right: 1em; text-align: center; vertical-align: top\">1</td>\n",
       "        <td style=\"padding-left: 1em; padding-right: 1em; text-align: center; vertical-align: top\">1</td>\n",
       "        <td style=\"padding-left: 1em; padding-right: 1em; text-align: center; vertical-align: top\">00:13:00</td>\n",
       "        <td style=\"padding-left: 1em; padding-right: 1em; text-align: center; vertical-align: top\">00:26:00</td>\n",
       "        <td style=\"padding-left: 1em; padding-right: 1em; text-align: center; vertical-align: top\">0</td>\n",
       "        <td style=\"padding-left: 1em; padding-right: 1em; text-align: center; vertical-align: top\">72.41195507496722</td>\n",
       "        <td style=\"padding-left: 1em; padding-right: 1em; text-align: center; vertical-align: top\">780</td>\n",
       "    </tr>\n",
       "    <tr>\n",
       "        <td style=\"padding-left: 1em; padding-right: 1em; text-align: center; vertical-align: top\">0.0</td>\n",
       "        <td style=\"padding-left: 1em; padding-right: 1em; text-align: center; vertical-align: top\">1</td>\n",
       "        <td style=\"padding-left: 1em; padding-right: 1em; text-align: center; vertical-align: top\">1</td>\n",
       "        <td style=\"padding-left: 1em; padding-right: 1em; text-align: center; vertical-align: top\">00:26:00</td>\n",
       "        <td style=\"padding-left: 1em; padding-right: 1em; text-align: center; vertical-align: top\">00:26:00</td>\n",
       "        <td style=\"padding-left: 1em; padding-right: 1em; text-align: center; vertical-align: top\">0</td>\n",
       "        <td style=\"padding-left: 1em; padding-right: 1em; text-align: center; vertical-align: top\">71.82391011579443</td>\n",
       "        <td style=\"padding-left: 1em; padding-right: 1em; text-align: center; vertical-align: top\">0</td>\n",
       "    </tr>\n",
       "    <tr>\n",
       "        <td style=\"padding-left: 1em; padding-right: 1em; text-align: center; vertical-align: top\">0.0</td>\n",
       "        <td style=\"padding-left: 1em; padding-right: 1em; text-align: center; vertical-align: top\">1</td>\n",
       "        <td style=\"padding-left: 1em; padding-right: 1em; text-align: center; vertical-align: top\">1</td>\n",
       "        <td style=\"padding-left: 1em; padding-right: 1em; text-align: center; vertical-align: top\">00:26:00</td>\n",
       "        <td style=\"padding-left: 1em; padding-right: 1em; text-align: center; vertical-align: top\">00:27:00</td>\n",
       "        <td style=\"padding-left: 1em; padding-right: 1em; text-align: center; vertical-align: top\">0</td>\n",
       "        <td style=\"padding-left: 1em; padding-right: 1em; text-align: center; vertical-align: top\">71.23586512248163</td>\n",
       "        <td style=\"padding-left: 1em; padding-right: 1em; text-align: center; vertical-align: top\">60</td>\n",
       "    </tr>\n",
       "    <tr>\n",
       "        <td style=\"padding-left: 1em; padding-right: 1em; text-align: center; vertical-align: top\">0.0</td>\n",
       "        <td style=\"padding-left: 1em; padding-right: 1em; text-align: center; vertical-align: top\">1</td>\n",
       "        <td style=\"padding-left: 1em; padding-right: 1em; text-align: center; vertical-align: top\">1</td>\n",
       "        <td style=\"padding-left: 1em; padding-right: 1em; text-align: center; vertical-align: top\">00:27:00</td>\n",
       "        <td style=\"padding-left: 1em; padding-right: 1em; text-align: center; vertical-align: top\">00:27:00</td>\n",
       "        <td style=\"padding-left: 1em; padding-right: 1em; text-align: center; vertical-align: top\">0</td>\n",
       "        <td style=\"padding-left: 1em; padding-right: 1em; text-align: center; vertical-align: top\">70.6478200950288</td>\n",
       "        <td style=\"padding-left: 1em; padding-right: 1em; text-align: center; vertical-align: top\">0</td>\n",
       "    </tr>\n",
       "    <tr>\n",
       "        <td style=\"padding-left: 1em; padding-right: 1em; text-align: center; vertical-align: top\">0.0</td>\n",
       "        <td style=\"padding-left: 1em; padding-right: 1em; text-align: center; vertical-align: top\">1</td>\n",
       "        <td style=\"padding-left: 1em; padding-right: 1em; text-align: center; vertical-align: top\">1</td>\n",
       "        <td style=\"padding-left: 1em; padding-right: 1em; text-align: center; vertical-align: top\">00:27:00</td>\n",
       "        <td style=\"padding-left: 1em; padding-right: 1em; text-align: center; vertical-align: top\">00:38:00</td>\n",
       "        <td style=\"padding-left: 1em; padding-right: 1em; text-align: center; vertical-align: top\">0</td>\n",
       "        <td style=\"padding-left: 1em; padding-right: 1em; text-align: center; vertical-align: top\">70.05977503343598</td>\n",
       "        <td style=\"padding-left: 1em; padding-right: 1em; text-align: center; vertical-align: top\">660</td>\n",
       "    </tr>\n",
       "    <tr>\n",
       "        <td style=\"padding-left: 1em; padding-right: 1em; text-align: center; vertical-align: top\">0.0</td>\n",
       "        <td style=\"padding-left: 1em; padding-right: 1em; text-align: center; vertical-align: top\">1</td>\n",
       "        <td style=\"padding-left: 1em; padding-right: 1em; text-align: center; vertical-align: top\">1</td>\n",
       "        <td style=\"padding-left: 1em; padding-right: 1em; text-align: center; vertical-align: top\">00:38:00</td>\n",
       "        <td style=\"padding-left: 1em; padding-right: 1em; text-align: center; vertical-align: top\">01:31:00</td>\n",
       "        <td style=\"padding-left: 1em; padding-right: 1em; text-align: center; vertical-align: top\">0</td>\n",
       "        <td style=\"padding-left: 1em; padding-right: 1em; text-align: center; vertical-align: top\">69.47172993770315</td>\n",
       "        <td style=\"padding-left: 1em; padding-right: 1em; text-align: center; vertical-align: top\">3180</td>\n",
       "    </tr>\n",
       "    <tr>\n",
       "        <td style=\"padding-left: 1em; padding-right: 1em; text-align: center; vertical-align: top\">0.0</td>\n",
       "        <td style=\"padding-left: 1em; padding-right: 1em; text-align: center; vertical-align: top\">1</td>\n",
       "        <td style=\"padding-left: 1em; padding-right: 1em; text-align: center; vertical-align: top\">1</td>\n",
       "        <td style=\"padding-left: 1em; padding-right: 1em; text-align: center; vertical-align: top\">01:31:00</td>\n",
       "        <td style=\"padding-left: 1em; padding-right: 1em; text-align: center; vertical-align: top\">01:41:00</td>\n",
       "        <td style=\"padding-left: 1em; padding-right: 1em; text-align: center; vertical-align: top\">0</td>\n",
       "        <td style=\"padding-left: 1em; padding-right: 1em; text-align: center; vertical-align: top\">68.8836848078303</td>\n",
       "        <td style=\"padding-left: 1em; padding-right: 1em; text-align: center; vertical-align: top\">600</td>\n",
       "    </tr>\n",
       "    <tr>\n",
       "        <td style=\"padding-left: 1em; padding-right: 1em; text-align: center; vertical-align: top\">0.0</td>\n",
       "        <td style=\"padding-left: 1em; padding-right: 1em; text-align: center; vertical-align: top\">1</td>\n",
       "        <td style=\"padding-left: 1em; padding-right: 1em; text-align: center; vertical-align: top\">1</td>\n",
       "        <td style=\"padding-left: 1em; padding-right: 1em; text-align: center; vertical-align: top\">01:41:00</td>\n",
       "        <td style=\"padding-left: 1em; padding-right: 1em; text-align: center; vertical-align: top\">01:55:00</td>\n",
       "        <td style=\"padding-left: 1em; padding-right: 1em; text-align: center; vertical-align: top\">0</td>\n",
       "        <td style=\"padding-left: 1em; padding-right: 1em; text-align: center; vertical-align: top\">68.29563964381745</td>\n",
       "        <td style=\"padding-left: 1em; padding-right: 1em; text-align: center; vertical-align: top\">840</td>\n",
       "    </tr>\n",
       "    <tr>\n",
       "        <td style=\"padding-left: 1em; padding-right: 1em; text-align: center; vertical-align: top\">0.0</td>\n",
       "        <td style=\"padding-left: 1em; padding-right: 1em; text-align: center; vertical-align: top\">1</td>\n",
       "        <td style=\"padding-left: 1em; padding-right: 1em; text-align: center; vertical-align: top\">1</td>\n",
       "        <td style=\"padding-left: 1em; padding-right: 1em; text-align: center; vertical-align: top\">01:55:00</td>\n",
       "        <td style=\"padding-left: 1em; padding-right: 1em; text-align: center; vertical-align: top\">02:15:00</td>\n",
       "        <td style=\"padding-left: 1em; padding-right: 1em; text-align: center; vertical-align: top\">0</td>\n",
       "        <td style=\"padding-left: 1em; padding-right: 1em; text-align: center; vertical-align: top\">67.7075944456646</td>\n",
       "        <td style=\"padding-left: 1em; padding-right: 1em; text-align: center; vertical-align: top\">1200</td>\n",
       "    </tr>\n",
       "</table>\n",
       "<table frame=\"box\" rules=\"cols\">\n",
       "    <tr>\n",
       "        <th style=\"padding-left: 1em; padding-right: 1em; text-align: center\">cycle_duration</th>\n",
       "        <th style=\"padding-left: 1em; padding-right: 1em; text-align: center\">time_of_day</th>\n",
       "    </tr>\n",
       "    <tr>\n",
       "        <td style=\"padding-left: 1em; padding-right: 1em; text-align: center; vertical-align: top\">17580</td>\n",
       "        <td style=\"padding-left: 1em; padding-right: 1em; text-align: center; vertical-align: top\">midnight</td>\n",
       "    </tr>\n",
       "    <tr>\n",
       "        <td style=\"padding-left: 1em; padding-right: 1em; text-align: center; vertical-align: top\">17580</td>\n",
       "        <td style=\"padding-left: 1em; padding-right: 1em; text-align: center; vertical-align: top\">midnight</td>\n",
       "    </tr>\n",
       "    <tr>\n",
       "        <td style=\"padding-left: 1em; padding-right: 1em; text-align: center; vertical-align: top\">17580</td>\n",
       "        <td style=\"padding-left: 1em; padding-right: 1em; text-align: center; vertical-align: top\">midnight</td>\n",
       "    </tr>\n",
       "    <tr>\n",
       "        <td style=\"padding-left: 1em; padding-right: 1em; text-align: center; vertical-align: top\">17580</td>\n",
       "        <td style=\"padding-left: 1em; padding-right: 1em; text-align: center; vertical-align: top\">midnight</td>\n",
       "    </tr>\n",
       "    <tr>\n",
       "        <td style=\"padding-left: 1em; padding-right: 1em; text-align: center; vertical-align: top\">17580</td>\n",
       "        <td style=\"padding-left: 1em; padding-right: 1em; text-align: center; vertical-align: top\">midnight</td>\n",
       "    </tr>\n",
       "    <tr>\n",
       "        <td style=\"padding-left: 1em; padding-right: 1em; text-align: center; vertical-align: top\">17580</td>\n",
       "        <td style=\"padding-left: 1em; padding-right: 1em; text-align: center; vertical-align: top\">midnight</td>\n",
       "    </tr>\n",
       "    <tr>\n",
       "        <td style=\"padding-left: 1em; padding-right: 1em; text-align: center; vertical-align: top\">17580</td>\n",
       "        <td style=\"padding-left: 1em; padding-right: 1em; text-align: center; vertical-align: top\">midnight</td>\n",
       "    </tr>\n",
       "    <tr>\n",
       "        <td style=\"padding-left: 1em; padding-right: 1em; text-align: center; vertical-align: top\">17580</td>\n",
       "        <td style=\"padding-left: 1em; padding-right: 1em; text-align: center; vertical-align: top\">midnight</td>\n",
       "    </tr>\n",
       "    <tr>\n",
       "        <td style=\"padding-left: 1em; padding-right: 1em; text-align: center; vertical-align: top\">17580</td>\n",
       "        <td style=\"padding-left: 1em; padding-right: 1em; text-align: center; vertical-align: top\">midnight</td>\n",
       "    </tr>\n",
       "    <tr>\n",
       "        <td style=\"padding-left: 1em; padding-right: 1em; text-align: center; vertical-align: top\">17580</td>\n",
       "        <td style=\"padding-left: 1em; padding-right: 1em; text-align: center; vertical-align: top\">midnight</td>\n",
       "    </tr>\n",
       "</table>\n",
       "[38933174 rows x 10 columns]<br/>Note: Only the head of the SFrame is printed.<br/>You can use print_rows(num_rows=m, num_columns=n) to print more rows and columns.\n",
       "</div>"
      ],
      "text/plain": [
       "Columns:\n",
       "\tuser_id\tfloat\n",
       "\tday_of_week_start\tint\n",
       "\tday_of_week_end\tint\n",
       "\ttime_start\tstr\n",
       "\ttime_end\tstr\n",
       "\tpluggedIn\tint\n",
       "\tpercentage\tfloat\n",
       "\tevent_duration\tint\n",
       "\tcycle_duration\tint\n",
       "\ttime_of_day\tstr\n",
       "\n",
       "Rows: 38933174\n",
       "\n",
       "Data:\n",
       "+---------+-------------------+-----------------+------------+----------+-----------+\n",
       "| user_id | day_of_week_start | day_of_week_end | time_start | time_end | pluggedIn |\n",
       "+---------+-------------------+-----------------+------------+----------+-----------+\n",
       "|   0.0   |         1         |        1        |  00:00:00  | 00:13:00 |     0     |\n",
       "|   0.0   |         1         |        1        |  00:13:00  | 00:26:00 |     0     |\n",
       "|   0.0   |         1         |        1        |  00:26:00  | 00:26:00 |     0     |\n",
       "|   0.0   |         1         |        1        |  00:26:00  | 00:27:00 |     0     |\n",
       "|   0.0   |         1         |        1        |  00:27:00  | 00:27:00 |     0     |\n",
       "|   0.0   |         1         |        1        |  00:27:00  | 00:38:00 |     0     |\n",
       "|   0.0   |         1         |        1        |  00:38:00  | 01:31:00 |     0     |\n",
       "|   0.0   |         1         |        1        |  01:31:00  | 01:41:00 |     0     |\n",
       "|   0.0   |         1         |        1        |  01:41:00  | 01:55:00 |     0     |\n",
       "|   0.0   |         1         |        1        |  01:55:00  | 02:15:00 |     0     |\n",
       "+---------+-------------------+-----------------+------------+----------+-----------+\n",
       "+-------------------+----------------+----------------+-------------+\n",
       "|     percentage    | event_duration | cycle_duration | time_of_day |\n",
       "+-------------------+----------------+----------------+-------------+\n",
       "|        73.0       |      780       |     17580      |   midnight  |\n",
       "| 72.41195507496722 |      780       |     17580      |   midnight  |\n",
       "| 71.82391011579443 |       0        |     17580      |   midnight  |\n",
       "| 71.23586512248163 |       60       |     17580      |   midnight  |\n",
       "|  70.6478200950288 |       0        |     17580      |   midnight  |\n",
       "| 70.05977503343598 |      660       |     17580      |   midnight  |\n",
       "| 69.47172993770315 |      3180      |     17580      |   midnight  |\n",
       "|  68.8836848078303 |      600       |     17580      |   midnight  |\n",
       "| 68.29563964381745 |      840       |     17580      |   midnight  |\n",
       "|  67.7075944456646 |      1200      |     17580      |   midnight  |\n",
       "+-------------------+----------------+----------------+-------------+\n",
       "[38933174 rows x 10 columns]\n",
       "Note: Only the head of the SFrame is printed.\n",
       "You can use print_rows(num_rows=m, num_columns=n) to print more rows and columns."
      ]
     },
     "execution_count": 35,
     "metadata": {},
     "output_type": "execute_result"
    }
   ],
   "source": [
    "dataSFrame = tc.SFrame(data)\n",
    "dataSFrame"
   ]
  },
  {
   "cell_type": "code",
   "execution_count": 36,
   "id": "faec5688",
   "metadata": {},
   "outputs": [],
   "source": [
    "train_data, test_Data = dataSFrame.random_split(0.8)\n",
    "features = ['user_id', 'day_of_week_start', 'day_of_week_end', 'time_start', 'time_end', 'pluggedIn', 'percentage', 'event_duration', 'time_of_day']\n",
    "target_feature = 'cycle_duration'"
   ]
  },
  {
   "cell_type": "markdown",
   "id": "f916a29c",
   "metadata": {},
   "source": [
    "# Linear Regression"
   ]
  },
  {
   "cell_type": "code",
   "execution_count": 37,
   "id": "0b07def3",
   "metadata": {},
   "outputs": [
    {
     "name": "stdout",
     "output_type": "stream",
     "text": [
      "PROGRESS: Creating a validation set from 5 percent of training data. This may take a while.\n",
      "          You can set ``validation_set=None`` to disable validation tracking.\n",
      "\n"
     ]
    },
    {
     "data": {
      "text/html": [
       "<pre>Linear regression:</pre>"
      ],
      "text/plain": [
       "Linear regression:"
      ]
     },
     "metadata": {},
     "output_type": "display_data"
    },
    {
     "data": {
      "text/html": [
       "<pre>--------------------------------------------------------</pre>"
      ],
      "text/plain": [
       "--------------------------------------------------------"
      ]
     },
     "metadata": {},
     "output_type": "display_data"
    },
    {
     "data": {
      "text/html": [
       "<pre>Number of examples          : 29591668</pre>"
      ],
      "text/plain": [
       "Number of examples          : 29591668"
      ]
     },
     "metadata": {},
     "output_type": "display_data"
    },
    {
     "data": {
      "text/html": [
       "<pre>Number of features          : 9</pre>"
      ],
      "text/plain": [
       "Number of features          : 9"
      ]
     },
     "metadata": {},
     "output_type": "display_data"
    },
    {
     "data": {
      "text/html": [
       "<pre>Number of unpacked features : 9</pre>"
      ],
      "text/plain": [
       "Number of unpacked features : 9"
      ]
     },
     "metadata": {},
     "output_type": "display_data"
    },
    {
     "data": {
      "text/html": [
       "<pre>Number of coefficients    : 2888</pre>"
      ],
      "text/plain": [
       "Number of coefficients    : 2888"
      ]
     },
     "metadata": {},
     "output_type": "display_data"
    },
    {
     "data": {
      "text/html": [
       "<pre>Starting L-BFGS</pre>"
      ],
      "text/plain": [
       "Starting L-BFGS"
      ]
     },
     "metadata": {},
     "output_type": "display_data"
    },
    {
     "data": {
      "text/html": [
       "<pre>--------------------------------------------------------</pre>"
      ],
      "text/plain": [
       "--------------------------------------------------------"
      ]
     },
     "metadata": {},
     "output_type": "display_data"
    },
    {
     "data": {
      "text/html": [
       "<pre>+-----------+----------+-----------+--------------+--------------------+----------------------+---------------------------------+-----------------------------------+</pre>"
      ],
      "text/plain": [
       "+-----------+----------+-----------+--------------+--------------------+----------------------+---------------------------------+-----------------------------------+"
      ]
     },
     "metadata": {},
     "output_type": "display_data"
    },
    {
     "data": {
      "text/html": [
       "<pre>| Iteration | Passes   | Step size | Elapsed Time | Training Max Error | Validation Max Error | Training Root-Mean-Square Error | Validation Root-Mean-Square Error |</pre>"
      ],
      "text/plain": [
       "| Iteration | Passes   | Step size | Elapsed Time | Training Max Error | Validation Max Error | Training Root-Mean-Square Error | Validation Root-Mean-Square Error |"
      ]
     },
     "metadata": {},
     "output_type": "display_data"
    },
    {
     "data": {
      "text/html": [
       "<pre>+-----------+----------+-----------+--------------+--------------------+----------------------+---------------------------------+-----------------------------------+</pre>"
      ],
      "text/plain": [
       "+-----------+----------+-----------+--------------+--------------------+----------------------+---------------------------------+-----------------------------------+"
      ]
     },
     "metadata": {},
     "output_type": "display_data"
    },
    {
     "data": {
      "text/html": [
       "<pre>Warning: Reached max step size.</pre>"
      ],
      "text/plain": [
       "Warning: Reached max step size."
      ]
     },
     "metadata": {},
     "output_type": "display_data"
    },
    {
     "data": {
      "text/html": [
       "<pre>| 0         | 5        | 25.000000 | 143.504549   | 86338.995764       | 86338.995358         | 32261.218577                    | 32260.271329                      |</pre>"
      ],
      "text/plain": [
       "| 0         | 5        | 25.000000 | 143.504549   | 86338.995764       | 86338.995358         | 32261.218577                    | 32260.271329                      |"
      ]
     },
     "metadata": {},
     "output_type": "display_data"
    },
    {
     "data": {
      "text/html": [
       "<pre>| 1         | 10       | 1.016246  | 281.244043   | 93163.054214       | 86609.137360         | 21573.728706                    | 21577.271380                      |</pre>"
      ],
      "text/plain": [
       "| 1         | 10       | 1.016246  | 281.244043   | 93163.054214       | 86609.137360         | 21573.728706                    | 21577.271380                      |"
      ]
     },
     "metadata": {},
     "output_type": "display_data"
    },
    {
     "data": {
      "text/html": [
       "<pre>| 2         | 16       | 5.081228  | 421.464927   | 143964.476072      | 132465.211571        | 19877.528823                    | 19880.943618                      |</pre>"
      ],
      "text/plain": [
       "| 2         | 16       | 5.081228  | 421.464927   | 143964.476072      | 132465.211571        | 19877.528823                    | 19880.943618                      |"
      ]
     },
     "metadata": {},
     "output_type": "display_data"
    },
    {
     "data": {
      "text/html": [
       "<pre>| 3         | 21       | 0.684288  | 529.808013   | 143395.583077      | 135284.960741        | 18679.699353                    | 18684.820784                      |</pre>"
      ],
      "text/plain": [
       "| 3         | 21       | 0.684288  | 529.808013   | 143395.583077      | 135284.960741        | 18679.699353                    | 18684.820784                      |"
      ]
     },
     "metadata": {},
     "output_type": "display_data"
    },
    {
     "data": {
      "text/html": [
       "<pre>| 4         | 26       | 0.684288  | 637.335158   | 132301.515095      | 122843.090185        | 18355.814751                    | 18360.393254                      |</pre>"
      ],
      "text/plain": [
       "| 4         | 26       | 0.684288  | 637.335158   | 132301.515095      | 122843.090185        | 18355.814751                    | 18360.393254                      |"
      ]
     },
     "metadata": {},
     "output_type": "display_data"
    },
    {
     "data": {
      "text/html": [
       "<pre>| 6         | 32       | 0.697348  | 772.946567   | 130021.517034      | 122133.042480        | 18271.907770                    | 18277.749381                      |</pre>"
      ],
      "text/plain": [
       "| 6         | 32       | 0.697348  | 772.946567   | 130021.517034      | 122133.042480        | 18271.907770                    | 18277.749381                      |"
      ]
     },
     "metadata": {},
     "output_type": "display_data"
    },
    {
     "data": {
      "text/html": [
       "<pre>| 7         | 33       | 0.871685  | 799.393475   | 126883.392479      | 119481.040762        | 18222.079833                    | 18228.612014                      |</pre>"
      ],
      "text/plain": [
       "| 7         | 33       | 0.871685  | 799.393475   | 126883.392479      | 119481.040762        | 18222.079833                    | 18228.612014                      |"
      ]
     },
     "metadata": {},
     "output_type": "display_data"
    },
    {
     "data": {
      "text/html": [
       "<pre>| 8         | 34       | 1.000000  | 824.178473   | 129140.268048      | 121424.772476        | 18177.634017                    | 18183.984041                      |</pre>"
      ],
      "text/plain": [
       "| 8         | 34       | 1.000000  | 824.178473   | 129140.268048      | 121424.772476        | 18177.634017                    | 18183.984041                      |"
      ]
     },
     "metadata": {},
     "output_type": "display_data"
    },
    {
     "data": {
      "text/html": [
       "<pre>| 9         | 35       | 1.000000  | 848.547318   | 121616.755594      | 114610.355432        | 18173.890029                    | 18181.366554                      |</pre>"
      ],
      "text/plain": [
       "| 9         | 35       | 1.000000  | 848.547318   | 121616.755594      | 114610.355432        | 18173.890029                    | 18181.366554                      |"
      ]
     },
     "metadata": {},
     "output_type": "display_data"
    },
    {
     "data": {
      "text/html": [
       "<pre>+-----------+----------+-----------+--------------+--------------------+----------------------+---------------------------------+-----------------------------------+</pre>"
      ],
      "text/plain": [
       "+-----------+----------+-----------+--------------+--------------------+----------------------+---------------------------------+-----------------------------------+"
      ]
     },
     "metadata": {},
     "output_type": "display_data"
    }
   ],
   "source": [
    "linear_regression_model = tc.linear_regression.create(train_data, target= target_feature, features= features)"
   ]
  },
  {
   "cell_type": "code",
   "execution_count": 38,
   "id": "750b1ab0",
   "metadata": {},
   "outputs": [
    {
     "data": {
      "text/plain": [
       "{'max_error': 122150.85841608663, 'rmse': 18179.42700135423}"
      ]
     },
     "execution_count": 38,
     "metadata": {},
     "output_type": "execute_result"
    }
   ],
   "source": [
    "linear_regression_results = linear_regression_model.evaluate(test_Data)\n",
    "linear_regression_results"
   ]
  },
  {
   "cell_type": "markdown",
   "id": "27920e64",
   "metadata": {},
   "source": [
    "# Boosted Trees Regression"
   ]
  },
  {
   "cell_type": "code",
   "execution_count": 45,
   "id": "f799570a",
   "metadata": {},
   "outputs": [
    {
     "name": "stdout",
     "output_type": "stream",
     "text": [
      "PROGRESS: Creating a validation set from 5 percent of training data. This may take a while.\n",
      "          You can set ``validation_set=None`` to disable validation tracking.\n",
      "\n"
     ]
    },
    {
     "data": {
      "text/html": [
       "<pre>Boosted trees regression:</pre>"
      ],
      "text/plain": [
       "Boosted trees regression:"
      ]
     },
     "metadata": {},
     "output_type": "display_data"
    },
    {
     "data": {
      "text/html": [
       "<pre>--------------------------------------------------------</pre>"
      ],
      "text/plain": [
       "--------------------------------------------------------"
      ]
     },
     "metadata": {},
     "output_type": "display_data"
    },
    {
     "data": {
      "text/html": [
       "<pre>Number of examples          : 29591668</pre>"
      ],
      "text/plain": [
       "Number of examples          : 29591668"
      ]
     },
     "metadata": {},
     "output_type": "display_data"
    },
    {
     "data": {
      "text/html": [
       "<pre>Number of features          : 9</pre>"
      ],
      "text/plain": [
       "Number of features          : 9"
      ]
     },
     "metadata": {},
     "output_type": "display_data"
    },
    {
     "data": {
      "text/html": [
       "<pre>Number of unpacked features : 9</pre>"
      ],
      "text/plain": [
       "Number of unpacked features : 9"
      ]
     },
     "metadata": {},
     "output_type": "display_data"
    },
    {
     "data": {
      "text/html": [
       "<pre>+-----------+--------------+--------------------+----------------------+---------------------------------+-----------------------------------+</pre>"
      ],
      "text/plain": [
       "+-----------+--------------+--------------------+----------------------+---------------------------------+-----------------------------------+"
      ]
     },
     "metadata": {},
     "output_type": "display_data"
    },
    {
     "data": {
      "text/html": [
       "<pre>| Iteration | Elapsed Time | Training Max Error | Validation Max Error | Training Root-Mean-Square Error | Validation Root-Mean-Square Error |</pre>"
      ],
      "text/plain": [
       "| Iteration | Elapsed Time | Training Max Error | Validation Max Error | Training Root-Mean-Square Error | Validation Root-Mean-Square Error |"
      ]
     },
     "metadata": {},
     "output_type": "display_data"
    },
    {
     "data": {
      "text/html": [
       "<pre>+-----------+--------------+--------------------+----------------------+---------------------------------+-----------------------------------+</pre>"
      ],
      "text/plain": [
       "+-----------+--------------+--------------------+----------------------+---------------------------------+-----------------------------------+"
      ]
     },
     "metadata": {},
     "output_type": "display_data"
    },
    {
     "data": {
      "text/html": [
       "<pre>| 1         | 58.945289    | 83667.679688       | 83599.593750         | 25905.435547                    | 25881.996094                      |</pre>"
      ],
      "text/plain": [
       "| 1         | 58.945289    | 83667.679688       | 83599.593750         | 25905.435547                    | 25881.996094                      |"
      ]
     },
     "metadata": {},
     "output_type": "display_data"
    },
    {
     "data": {
      "text/html": [
       "<pre>| 2         | 123.584940   | 81793.234375       | 81688.781250         | 22133.226562                    | 22109.964844                      |</pre>"
      ],
      "text/plain": [
       "| 2         | 123.584940   | 81793.234375       | 81688.781250         | 22133.226562                    | 22109.964844                      |"
      ]
     },
     "metadata": {},
     "output_type": "display_data"
    },
    {
     "data": {
      "text/html": [
       "<pre>| 3         | 172.747476   | 80501.843750       | 80397.390625         | 20026.107422                    | 20003.841797                      |</pre>"
      ],
      "text/plain": [
       "| 3         | 172.747476   | 80501.843750       | 80397.390625         | 20026.107422                    | 20003.841797                      |"
      ]
     },
     "metadata": {},
     "output_type": "display_data"
    },
    {
     "data": {
      "text/html": [
       "<pre>| 4         | 217.091972   | 79577.484375       | 79509.570312         | 18906.994141                    | 18886.285156                      |</pre>"
      ],
      "text/plain": [
       "| 4         | 217.091972   | 79577.484375       | 79509.570312         | 18906.994141                    | 18886.285156                      |"
      ]
     },
     "metadata": {},
     "output_type": "display_data"
    },
    {
     "data": {
      "text/html": [
       "<pre>| 5         | 258.813654   | 78947.953125       | 78880.046875         | 18332.685547                    | 18313.476562                      |</pre>"
      ],
      "text/plain": [
       "| 5         | 258.813654   | 78947.953125       | 78880.046875         | 18332.685547                    | 18313.476562                      |"
      ]
     },
     "metadata": {},
     "output_type": "display_data"
    },
    {
     "data": {
      "text/html": [
       "<pre>| 7         | 347.199275   | 78149.929688       | 78149.929688         | 17896.687500                    | 17879.890625                      |</pre>"
      ],
      "text/plain": [
       "| 7         | 347.199275   | 78149.929688       | 78149.929688         | 17896.687500                    | 17879.890625                      |"
      ]
     },
     "metadata": {},
     "output_type": "display_data"
    },
    {
     "data": {
      "text/html": [
       "<pre>| 8         | 390.529734   | 77883.500000       | 77883.500000         | 17823.365234                    | 17807.173828                      |</pre>"
      ],
      "text/plain": [
       "| 8         | 390.529734   | 77883.500000       | 77883.500000         | 17823.365234                    | 17807.173828                      |"
      ]
     },
     "metadata": {},
     "output_type": "display_data"
    },
    {
     "data": {
      "text/html": [
       "<pre>| 9         | 431.162110   | 77735.031250       | 77735.031250         | 17784.638672                    | 17769.113281                      |</pre>"
      ],
      "text/plain": [
       "| 9         | 431.162110   | 77735.031250       | 77735.031250         | 17784.638672                    | 17769.113281                      |"
      ]
     },
     "metadata": {},
     "output_type": "display_data"
    },
    {
     "data": {
      "text/html": [
       "<pre>| 10        | 475.874305   | 77688.171875       | 77616.031250         | 17763.703125                    | 17748.617188                      |</pre>"
      ],
      "text/plain": [
       "| 10        | 475.874305   | 77688.171875       | 77616.031250         | 17763.703125                    | 17748.617188                      |"
      ]
     },
     "metadata": {},
     "output_type": "display_data"
    },
    {
     "data": {
      "text/html": [
       "<pre>+-----------+--------------+--------------------+----------------------+---------------------------------+-----------------------------------+</pre>"
      ],
      "text/plain": [
       "+-----------+--------------+--------------------+----------------------+---------------------------------+-----------------------------------+"
      ]
     },
     "metadata": {},
     "output_type": "display_data"
    }
   ],
   "source": [
    "boosted_trees_model = tc.boosted_trees_regression.create(train_data, target=target_feature, features= features)"
   ]
  },
  {
   "cell_type": "code",
   "execution_count": 46,
   "id": "968de318",
   "metadata": {},
   "outputs": [
    {
     "data": {
      "text/plain": [
       "{'max_error': 77418.9501953125, 'rmse': 17767.745488042015}"
      ]
     },
     "execution_count": 46,
     "metadata": {},
     "output_type": "execute_result"
    }
   ],
   "source": [
    "boosted_trees_results = boosted_trees_model.evaluate(test_Data)\n",
    "boosted_trees_results"
   ]
  }
 ],
 "metadata": {
  "kernelspec": {
   "display_name": "Python 3 (ipykernel)",
   "language": "python",
   "name": "python3"
  },
  "language_info": {
   "codemirror_mode": {
    "name": "ipython",
    "version": 3
   },
   "file_extension": ".py",
   "mimetype": "text/x-python",
   "name": "python",
   "nbconvert_exporter": "python",
   "pygments_lexer": "ipython3",
   "version": "3.8.12"
  }
 },
 "nbformat": 4,
 "nbformat_minor": 5
}
